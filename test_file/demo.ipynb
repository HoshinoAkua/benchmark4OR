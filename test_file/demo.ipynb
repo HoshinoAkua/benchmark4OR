{
 "cells": [
  {
   "cell_type": "code",
   "execution_count": 1,
   "metadata": {},
   "outputs": [
    {
     "name": "stderr",
     "output_type": "stream",
     "text": [
      "/mntcephfs/lab_data/hanyizhou/anaconda/wl/lib/python3.8/site-packages/tqdm/auto.py:22: TqdmWarning: IProgress not found. Please update jupyter and ipywidgets. See https://ipywidgets.readthedocs.io/en/stable/user_install.html\n",
      "  from .autonotebook import tqdm as notebook_tqdm\n"
     ]
    }
   ],
   "source": [
    "import torch\n",
    "from wl_test_l2O import wl_test\n",
    "from wl_test_final import WLtest\n",
    "torch.set_printoptions(profile=\"full\")"
   ]
  },
  {
   "cell_type": "code",
   "execution_count": 6,
   "metadata": {},
   "outputs": [
    {
     "data": {
      "text/plain": [
       "(tensor([[0.6614]]), tensor([[0.2669]]), tensor([[0.0617]]))"
      ]
     },
     "execution_count": 6,
     "metadata": {},
     "output_type": "execute_result"
    }
   ],
   "source": [
    "torch.manual_seed(1)\n",
    "x1, x2, x3 = torch.randn(1,1), torch.randn(1,1), torch.randn(1,1)\n",
    "x1,x2,x3"
   ]
  },
  {
   "cell_type": "code",
   "execution_count": null,
   "metadata": {},
   "outputs": [],
   "source": []
  },
  {
   "cell_type": "code",
   "execution_count": 20,
   "metadata": {},
   "outputs": [
    {
     "name": "stdout",
     "output_type": "stream",
     "text": [
      "Read LP format model from file /home/hanyizhou/wl_test/lp_generation/test/answer_eoe_gpt-4o-2024-08-06.lp\n",
      "Reading time = 0.00 seconds\n",
      ": 6 rows, 10 columns, 60 nonzeros\n",
      "Read LP format model from file /home/hanyizhou/wl_test/lp_generation/test/model.lp\n",
      "Reading time = 0.00 seconds\n",
      ": 16 rows, 10 columns, 70 nonzeros\n",
      "same\n"
     ]
    }
   ],
   "source": [
    "info1 = graph_generator('/home/hanyizhou/wl_test/lp_generation/test/answer_eoe_gpt-4o-2024-08-06.lp')\n",
    "info2 = graph_generator('/home/hanyizhou/wl_test/lp_generation/test/model.lp')\n",
    "A1 = info1[0]\n",
    "A2 = info2[0]\n",
    "f1 = info1[1]#variable\n",
    "f2 = info2[1]\n",
    "c1 = info1[2]#constrain\n",
    "c2 = info2[2]\n",
    "wltest = WLtest(A1, c1,f1,A2,c2,f2)\n",
    "print(wltest.test())"
   ]
  },
  {
   "cell_type": "code",
   "execution_count": 21,
   "metadata": {},
   "outputs": [
    {
     "data": {
      "text/plain": [
       "(torch.Size([36, 2]), torch.Size([36, 2]))"
      ]
     },
     "execution_count": 21,
     "metadata": {},
     "output_type": "execute_result"
    }
   ],
   "source": [
    "c1.shape, c2.shape"
   ]
  }
 ],
 "metadata": {
  "kernelspec": {
   "display_name": "pe",
   "language": "python",
   "name": "python3"
  },
  "language_info": {
   "codemirror_mode": {
    "name": "ipython",
    "version": 3
   },
   "file_extension": ".py",
   "mimetype": "text/x-python",
   "name": "python",
   "nbconvert_exporter": "python",
   "pygments_lexer": "ipython3",
   "version": "3.8.13"
  }
 },
 "nbformat": 4,
 "nbformat_minor": 2
}
