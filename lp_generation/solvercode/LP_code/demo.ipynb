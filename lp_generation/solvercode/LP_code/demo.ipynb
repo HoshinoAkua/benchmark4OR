{
 "cells": [
  {
   "cell_type": "code",
   "execution_count": 1,
   "metadata": {},
   "outputs": [],
   "source": [
    "import pyscipopt as scp\n",
    "import json\n",
    "with open(\"../../../data/lp_data/MF_Production Planning Problem_Workforce-constrained Production Planning Problem_parameters.json0th_paraminfo.json\") as f:\n",
    "    info = json.load(f)\n",
    "model = scp.Model()\n",
    "P = info[\"P\"]\n",
    "R = info[\"R\"]\n",
    "W = info[\"W\"]\n",
    "\n",
    "c = info[\"c_i\"]\n",
    "f = info[\"f_i\"]\n",
    "a = info[\"a_{i,j}\"]\n",
    "b = info[\"b_j\"]\n",
    "d = info[\"d_{i,j}\"]\n",
    "e = info[\"e_j\"]"
   ]
  }
 ],
 "metadata": {
  "kernelspec": {
   "display_name": "Python 3",
   "language": "python",
   "name": "python3"
  },
  "language_info": {
   "codemirror_mode": {
    "name": "ipython",
    "version": 3
   },
   "file_extension": ".py",
   "mimetype": "text/x-python",
   "name": "python",
   "nbconvert_exporter": "python",
   "pygments_lexer": "ipython3",
   "version": "3.8.13"
  }
 },
 "nbformat": 4,
 "nbformat_minor": 2
}
