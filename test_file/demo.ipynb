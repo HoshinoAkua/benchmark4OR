{
 "cells": [
  {
   "cell_type": "code",
   "execution_count": 4,
   "metadata": {},
   "outputs": [],
   "source": [
    "from helper_modified import  graph_generator\n",
    "import torch\n",
    "from wl_test_l2O import wl_test\n",
    "from wl_test_final import WLtest\n",
    "torch.set_printoptions(profile=\"full\")"
   ]
  },
  {
   "cell_type": "code",
   "execution_count": 5,
   "metadata": {},
   "outputs": [
    {
     "ename": "UnboundLocalError",
     "evalue": "local variable 'ub' referenced before assignment",
     "output_type": "error",
     "traceback": [
      "\u001b[0;31m---------------------------------------------------------------------------\u001b[0m",
      "\u001b[0;31mUnboundLocalError\u001b[0m                         Traceback (most recent call last)",
      "Cell \u001b[0;32mIn[5], line 1\u001b[0m\n\u001b[0;32m----> 1\u001b[0m info1 \u001b[38;5;241m=\u001b[39m \u001b[43mgraph_generator\u001b[49m\u001b[43m(\u001b[49m\u001b[38;5;124;43m'\u001b[39;49m\u001b[38;5;124;43m/home/hanyizhou/wl_test/lp_generation/test/answer_eoe_gpt-4o-2024-08-06.lp\u001b[39;49m\u001b[38;5;124;43m'\u001b[39;49m\u001b[43m)\u001b[49m\n\u001b[1;32m      2\u001b[0m info2 \u001b[38;5;241m=\u001b[39m graph_generator(\u001b[38;5;124m'\u001b[39m\u001b[38;5;124m/home/hanyizhou/wl_test/lp_generation/test/model.lp\u001b[39m\u001b[38;5;124m'\u001b[39m)\n\u001b[1;32m      3\u001b[0m A1 \u001b[38;5;241m=\u001b[39m info1[\u001b[38;5;241m0\u001b[39m]\n",
      "File \u001b[0;32m~/wl_test/test_file/helper_modified.py:39\u001b[0m, in \u001b[0;36mgraph_generator\u001b[0;34m(ins_name)\u001b[0m\n\u001b[1;32m     37\u001b[0m \u001b[38;5;28;01mif\u001b[39;00m lb \u001b[38;5;241m!=\u001b[39m \u001b[38;5;241m0\u001b[39m:\n\u001b[1;32m     38\u001b[0m     m\u001b[38;5;241m.\u001b[39maddCons(var \u001b[38;5;241m>\u001b[39m\u001b[38;5;241m=\u001b[39m\u001b[38;5;241m0\u001b[39m)\n\u001b[0;32m---> 39\u001b[0m \u001b[38;5;28;01mif\u001b[39;00m \u001b[43mub\u001b[49m \u001b[38;5;241m!=\u001b[39m \u001b[38;5;241m1e20\u001b[39m:\n\u001b[1;32m     40\u001b[0m     m\u001b[38;5;241m.\u001b[39maddCons(var \u001b[38;5;241m<\u001b[39m\u001b[38;5;241m=\u001b[39m \u001b[38;5;241m1e20\u001b[39m)\n\u001b[1;32m     41\u001b[0m ub \u001b[38;5;241m=\u001b[39m var\u001b[38;5;241m.\u001b[39mgetUbOriginal()\n",
      "\u001b[0;31mUnboundLocalError\u001b[0m: local variable 'ub' referenced before assignment"
     ]
    }
   ],
   "source": [
    "info1 = graph_generator('/home/hanyizhou/wl_test/lp_generation/test/answer_eoe_gpt-4o-2024-08-06.lp')\n",
    "info2 = graph_generator('/home/hanyizhou/wl_test/lp_generation/test/model.lp')\n",
    "A1 = info1[0]\n",
    "A2 = info2[0]\n",
    "f1 = info1[1]#variable\n",
    "f2 = info2[1]\n",
    "c1 = info1[2]#constrain\n",
    "c2 = info2[2]\n",
    "wltest = WLtest(A1, c1,f1,A2,c2,f2)\n",
    "print(wltest.test())"
   ]
  },
  {
   "cell_type": "code",
   "execution_count": 9,
   "metadata": {},
   "outputs": [
    {
     "data": {
      "text/plain": [
       "(torch.Size([26, 2]), torch.Size([36, 2]))"
      ]
     },
     "execution_count": 9,
     "metadata": {},
     "output_type": "execute_result"
    }
   ],
   "source": [
    "c1.shape, c2.shape"
   ]
  }
 ],
 "metadata": {
  "kernelspec": {
   "display_name": "pe",
   "language": "python",
   "name": "python3"
  },
  "language_info": {
   "codemirror_mode": {
    "name": "ipython",
    "version": 3
   },
   "file_extension": ".py",
   "mimetype": "text/x-python",
   "name": "python",
   "nbconvert_exporter": "python",
   "pygments_lexer": "ipython3",
   "version": "3.8.13"
  }
 },
 "nbformat": 4,
 "nbformat_minor": 2
}
